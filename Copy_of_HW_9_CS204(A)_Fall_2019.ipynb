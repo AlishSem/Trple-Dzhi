{
  "nbformat": 4,
  "nbformat_minor": 0,
  "metadata": {
    "colab": {
      "name": "Copy of HW#9 CS204(A) Fall 2019.ipynb",
      "provenance": [],
      "collapsed_sections": [],
      "include_colab_link": true
    },
    "kernelspec": {
      "name": "python3",
      "display_name": "Python 3"
    }
  },
  "cells": [
    {
      "cell_type": "markdown",
      "metadata": {
        "id": "view-in-github",
        "colab_type": "text"
      },
      "source": [
        "<a href=\"https://colab.research.google.com/github/AlishSem/Trple-Dzhi/blob/master/Copy_of_HW_9_CS204(A)_Fall_2019.ipynb\" target=\"_parent\"><img src=\"https://colab.research.google.com/assets/colab-badge.svg\" alt=\"Open In Colab\"/></a>"
      ]
    },
    {
      "cell_type": "markdown",
      "metadata": {
        "id": "ssIX-sCROZfW",
        "colab_type": "text"
      },
      "source": [
        "# CS204(A) Discrete Mathematics, Fall 2019\n",
        "\n",
        "### Homework #9: Programming assignment on graph and tree\n",
        "\n",
        "### Due: Thursday, December 5th, 11:59 PM (KST)\n",
        "\n",
        "### Late due: Tuesday, December 10th, 11:59 PM (KST)\n",
        "\n",
        "### TA: Jaehyun Jang (jaehyunjang@kaist.ac.kr)"
      ]
    },
    {
      "cell_type": "markdown",
      "metadata": {
        "id": "jZrNhKfBPBWu",
        "colab_type": "text"
      },
      "source": [
        "# Overview\n",
        "\n",
        "### This assignment is designed for you to understand graph and tree algorithms and their application.\n",
        "\n",
        "In this homework, you will write your codes, reports and answers all in this Google Colaboratory notebook. First, save a copy of this notebook in your Google Drive by pressing [File > Save a copy in Drive..] if you have not done it \n",
        "already. You cannot execute or edit for your work in the original notebook!\n",
        "\n",
        "There are two problems in this homework assignment."
      ]
    },
    {
      "cell_type": "markdown",
      "metadata": {
        "id": "gwC4wnUpPT7w",
        "colab_type": "text"
      },
      "source": [
        "![대체 텍스트](https://cgv.kaist.ac.kr/cs204/cs204_hw9.jpg)\n",
        "\n",
        "# 1. International Conference at KAIST\n",
        "\n",
        "In our conference, the conference hall has $|V|$ rooms, of which $m$ rooms are used for technical support offices. In a given time, there are $n$ conference sessions having some technical difficulties. The technical support offices send a team to the room having a technical difficulty. Rooms are connected by corridors which may be reached directly, so that a technical team needs to visit one or several rooms to solve the technical problem. Moreover, each technical support office has a plenty of support team, and each office can send multiple teams to each room having the technical problem.\n",
        "Your task is to compute the sum of travel time for the support teams to reach each session location. \n",
        "\n",
        "## Input\n",
        "\n",
        "- The first line has 4 numbers: $|V|$, $|E|$, $n$, and $m$.\n",
        "  - $|V|$: the total number of rooms, including the rooms where the sessions are held and the technical support offices.\n",
        "    - Note that: $2 \\leq |V| \\leq 1000$\n",
        "    - The label of vertex starts with '1'\n",
        "  - $|E|$: the number of corridors connecting two rooms. \n",
        "    - Note that: $0 \\leq |E| \\leq \\frac{|V|(|V|-1)}{2}$\n",
        "  - n: the number of rooms having a technical difficulty. $(n > 1)$\n",
        "  - m: the number of technical support offices. $(m > 1)$\n",
        "    - Note that: $n + m \\leq |V|$\n",
        "- Second line lists n numbers which are the id's of the rooms having technically difficulty\n",
        "- Third line lists m numbers which are the id's of the technical offices.\n",
        "- Next lines show each of the corridor information: 2 room numbers connected and the travel time (in seconds) to reach one end to the other.\n",
        "\n",
        "## Output\n",
        "- Print out the total waiting time for all sessions having technical difficulties to receive a support team from the closest technical office (i.e. total elapsed time for the technical support teams to get to the rooms.)\n",
        "\n",
        "## Example Input\n",
        "\n",
        "> 8 12 3 2 \\\\\n",
        "> 2 3 5 \\\\\n",
        "> 4 6 \\\\\n",
        "> 1 2 30 \\\\\n",
        "> 1 6 90 \\\\\n",
        "> 2 3 60 \\\\\n",
        "> 3 4 40 \\\\\n",
        "> 3 5 20 \\\\\n",
        "> 4 5 70 \\\\\n",
        "> 6 5 50 \\\\\n",
        "> 8 6 50 \\\\\n",
        "> 6 7 30 \\\\\n",
        "> 8 7 30 \\\\\n",
        "> 7 5 10 \\\\\n",
        "> 2 8 30 \\\\\n",
        "\n",
        "## Graph Visualization for example input\n",
        "\n",
        "![대체 텍스트](https://i.ibb.co/qRM0hhx/graph.png)\n",
        "\n",
        "## Example Output\n",
        "\n",
        "> 160\n",
        "\n",
        "## Run Time / Memory space requirement\n",
        "- The program should run in $O(|V|^2)$ or $O(|E| log |V|)$ time. If the program requires too much time to run (e.g., takes several minutes to get your answer), you will only get 50% credit. The space complexity should be $O(|V|^2)$\n",
        "\n",
        "## **IMPORTANT Assumptions**\n",
        "- There is no technical issue from the technical support office.\n",
        "- There is no room where a technical team cannot reach.\n",
        "- There is only one corridor between two rooms."
      ]
    },
    {
      "cell_type": "markdown",
      "metadata": {
        "id": "Jvq76Bh2jK5T",
        "colab_type": "text"
      },
      "source": [
        "## a) Implement the program for computing the total elapsed time for the technical support teams [40 pt]\n",
        "\n",
        "Fill up construct_graph [10 pt] and compute_total_time [30 pt]"
      ]
    },
    {
      "cell_type": "code",
      "metadata": {
        "id": "toGA5SK8bgPh",
        "colab_type": "code",
        "colab": {}
      },
      "source": [
        "# Read input from txt file\n",
        "\n",
        "from google.colab import files\n",
        "import time\n",
        "import io\n",
        "import sys\n",
        "import os\n",
        "\n",
        "input = []\n",
        "uploaded = files.upload()\n",
        "\n",
        "for fn in uploaded.keys():\n",
        "  print('User uploaded file \"{name}\" with length {length} bytes'.format(\n",
        "      name=fn, length=len(uploaded[fn])))\n",
        "  with open(fn) as f:\n",
        "    content = f.readlines()\n",
        "    input = [x.strip() for x in content] \n",
        "  os.remove(fn)\n",
        "\n",
        "# Check input layout\n",
        "for line in input:\n",
        "  print(line)\n",
        "\n",
        "graph = []\n",
        "n = []\n",
        "m = []\n",
        "\n",
        "INF = sys.maxsize\n",
        "\n",
        "# Fill up construct_graph [10 pt]\n",
        "# This function is construct a graph data structure and room information based on inputs. (the list of strings)\n",
        "# The data structure of graph is not fixed to solve this problem. You can use adjacency matrix or custom graph class.\n",
        "# The point is that you should implement your graph by using inputs, and check the output is correct.\n",
        "# We do not recommend to use global variable in all CS projects.\n",
        "\n",
        "def construct_graph(input, graph, n, m):\n",
        "  return\n",
        "\n",
        "construct_graph(input, graph, n, m)\n",
        "\n",
        "# Write helper codes\n",
        "\n",
        "# Fill up compute_total_time [40 pt]\n",
        "def compute_total_time(graph, n, m):\n",
        "  elapsed_time = 0\n",
        "  return elapsed_time\n",
        "\n",
        "start_time = time.time()\n",
        "print(compute_total_time(graph, n, m))\n",
        "elapsed_time = time.time() - start_time\n",
        "\n",
        "print(elapsed_time)"
      ],
      "execution_count": 0,
      "outputs": []
    },
    {
      "cell_type": "markdown",
      "metadata": {
        "id": "sTcAC0UIy2dK",
        "colab_type": "text"
      },
      "source": [
        "## b) Design a test case [10 pt]\n",
        "\n",
        "Upload your test case to http://cgvapps.kaist.ac.kr:8979/s/ndcG3yxYYrewyct\n",
        "\n",
        "The filename should be [your_student_id]_q1.txt\n",
        "\n",
        "The test case should meet the following requirements.\n",
        "\n",
        "- The number of rooms should be more than 6.\n",
        "- The test case should be made under important assumptions.\n",
        "- Use this graph draw site before you submit your test case \n",
        "  - https://csacademy.com/app/graph_editor/\n"
      ]
    },
    {
      "cell_type": "markdown",
      "metadata": {
        "id": "RVfHmmYakfdZ",
        "colab_type": "text"
      },
      "source": [
        "# 2. Open KAIST\n",
        "\n",
        "During Open KAIST, the office decided on a special policy for setting the number of gifts to provide to each participating labs. The total number of gifts **$c$** is a decimal number which consists of some selected digits. (For example, if the selected digits are {3,4,5}, then the total number of gifts can be $3433345$, but not $3421345$, because ‘$1$’ and ‘$2$’ are not in the set.)\n",
        "\n",
        "The office originally planned to distribute the same number of gifts to all participating **$n$** labs, but $m$ ($0 \\leq m < n$) labs insisted that they need one more extra gift. Since the office is under budget, the office needs to compute the **smallest** total number of gifts to meet the following the requirement.\n",
        "\n",
        "Let **$c$** be the total number of gift. Then, $c = a∗n+m$, $a \\ge 1$. Note that $c \\ge m+n$, and $c$ is some number composed of the given digits.\n",
        "\n",
        "You need to write a program for computing the smallest $c$.\n",
        "\n",
        "## Input\n",
        "\n",
        "The input parameters are given in the following format. The program reads 3 lines where the first line is the selected digits, The second and the third lines are total number of labs ($n$) and the number of labs asking the extra gift ($m$) respectively.\n",
        "\n",
        "\n",
        "> 3,4,5 \\\\\n",
        "> 9997 \\\\\n",
        "> 3333 \\\\\n",
        "\n",
        "For convenience, you can give a sequence of inputs to test out several cases, followed by the number of cases.\n",
        "\n",
        "- The number of test cases\n",
        "- Each test case compose with three lines\n",
        "  - The selected digits\n",
        "  - The total number of participated labs ($n$)\n",
        "  - The number of asking the extra gifts ($m$)\n",
        "\n",
        "## Output\n",
        "- Print out the smallest possible number of **$c$**\n",
        "- If there is no possible number for **$c$**, then print out \"IMPOSSIBLE\"\n",
        "\n",
        "## Example Input\n",
        "\n",
        "> 3 // number of cases to try \\\\\n",
        "> 1 // the start line of the first case  \\\\\n",
        "> 10 \\\\\n",
        "> 1 \\\\\n",
        "> 0 // the start line of the second case \\\\\n",
        "> 7 \\\\\n",
        "> 3 \\\\\n",
        "> 3,4,5 // the start line of the third case \\\\\n",
        "> 9997 \\\\\n",
        "> 3333 \\\\\n",
        "  \n",
        "## Example Output\n",
        "\n",
        "> 11 \\\\\n",
        "> IMPOSSIBLE \\\\\n",
        "> 35355353545\n",
        "\n",
        "## Time limit\n",
        "- The each test case should run within 2 sec. If the function runs over the 2 sec, you will get no points.\n",
        "\n",
        "## Hint\n",
        "\n",
        "- $c \\geq m + n$\n",
        "- $c = a * n + m$, $a \\geq 1$\n",
        "- Use the following property for your graph representation\n",
        "  - ${(({c}\\mod {n}) * 10 + x)} \\mod {n} = {(c * 10 + x)} \\mod {n}$\n",
        "\n",
        "## Requirement\n",
        "\n",
        "Use the graph or tree algorithm to solve this problem.\n",
        "\n",
        "**If you do not use graph or tree algorithm to get c, you will get no points on this problem.**"
      ]
    },
    {
      "cell_type": "markdown",
      "metadata": {
        "id": "r29bw9H8xsKg",
        "colab_type": "text"
      },
      "source": [
        "## a) Solve the problem of finding the smallest number among the all possible $c$ by implementing `compute_c` [30 pt]"
      ]
    },
    {
      "cell_type": "code",
      "metadata": {
        "id": "gjBo7ZWgw3LP",
        "colab_type": "code",
        "colab": {}
      },
      "source": [
        "# Read input from txt file\n",
        "\n",
        "from google.colab import files\n",
        "import sys\n",
        "import time\n",
        "import io\n",
        "import os \n",
        "\n",
        "input = []\n",
        "uploaded = files.upload()\n",
        "\n",
        "for fn in uploaded.keys():\n",
        "  print('User uploaded file \"{name}\" with length {length} bytes'.format(\n",
        "      name=fn, length=len(uploaded[fn])))\n",
        "  with open(fn) as f:\n",
        "    content = f.readlines()\n",
        "    input = [x.strip() for x in content] \n",
        "  os.remove(fn)\n",
        "  \n",
        "# Check input layout\n",
        "for line in input:\n",
        "  print(line)\n",
        "\n",
        "num_test = 0\n",
        "\n",
        "INF = sys.maxsize\n",
        "\n",
        "# Write helper codes\n",
        "\n",
        "# Fill up compute_c [25 pt]\n",
        "def compute_c(digits, n, m):\n",
        "  c = \"\"\n",
        "  return c\n",
        "\n",
        "for i in range(num_test):\n",
        "  start_time = time.time()\n",
        "  print(compute_c(digits, n, m))\n",
        "  elapsed_time = time.time() - start_time\n",
        "  print(elapsed_time)"
      ],
      "execution_count": 0,
      "outputs": []
    },
    {
      "cell_type": "markdown",
      "metadata": {
        "id": "Q4dMxMdjW__9",
        "colab_type": "text"
      },
      "source": [
        "## b) Explain why your algorithm produce the smallest number of $c$ which follows the requirement? How did you solve this problem using a graph? Please explain your method including those keywords.  [10 pt]\n",
        "  - Graph representation [5 pt]\n",
        "  - Graph Algorithm [5 pt]"
      ]
    },
    {
      "cell_type": "markdown",
      "metadata": {
        "id": "xqkgt_W_zzj-",
        "colab_type": "text"
      },
      "source": [
        "## c) Design a test case [10 pt]\n",
        "\n",
        "Upload your test case to http://cgvapps.kaist.ac.kr:8979/s/ndcG3yxYYrewyct\n",
        "\n",
        "The filename should be [your_student_id]_q2.txt\n",
        "\n",
        "The test case should follow this manner\n",
        "\n",
        "- Include five test cases"
      ]
    },
    {
      "cell_type": "markdown",
      "metadata": {
        "id": "JPFpWQtZhGuM",
        "colab_type": "text"
      },
      "source": [
        "# How to handin?\n",
        "You need to upload .ipynb file to KLMS. It can be downloaded by pressing [File > Download .ipynb].\n",
        "\n",
        "Make sure you followed the instructions before handin!"
      ]
    },
    {
      "cell_type": "markdown",
      "metadata": {
        "id": "5a7gAV283evE",
        "colab_type": "text"
      },
      "source": [
        "# Code Plagarism\n",
        "\n",
        "Based on our honor code, we will check the plagarism of your code.\n",
        "\n",
        "Please do not share your code for your colleages."
      ]
    }
  ]
}